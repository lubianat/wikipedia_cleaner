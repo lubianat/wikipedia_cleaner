{
 "cells": [
  {
   "cell_type": "code",
   "execution_count": 1,
   "metadata": {},
   "outputs": [],
   "source": [
    "translation = open(\"vac_research.txt\", \"r\")"
   ]
  },
  {
   "cell_type": "code",
   "execution_count": 2,
   "metadata": {},
   "outputs": [],
   "source": [
    "translation_text = translation.read()"
   ]
  },
  {
   "cell_type": "code",
   "execution_count": 3,
   "metadata": {},
   "outputs": [],
   "source": [
    "\n",
    "\n",
    "def replace_months(text):\n",
    "    text_to_modify = text\n",
    "    month_name_to_number_in_bars = {}\n",
    "\n",
    "    months = [' January ', ' February ', ' March ', ' April ',\n",
    "              ' May ', ' June ', ' July ', ' August ',\n",
    "              ' September ', ' October ', ' November ', ' December ']\n",
    "          \n",
    "    for i, month in enumerate(months):\n",
    "        number_in_bars = (\"/\" + str(i+1) + \"/\" )\n",
    "        month_name_to_number_in_bars[month] = number_in_bars\n",
    "    \n",
    "    for month in month_name_to_number_in_bars:\n",
    "        text_to_modify = text_to_modify.replace(month,  month_name_to_number_in_bars[month])\n",
    "    return(text_to_modify)\n",
    "    "
   ]
  },
  {
   "cell_type": "code",
   "execution_count": 4,
   "metadata": {},
   "outputs": [],
   "source": [
    "translation_text_clean = replace_months(translation_text)"
   ]
  },
  {
   "cell_type": "code",
   "execution_count": 5,
   "metadata": {},
   "outputs": [],
   "source": [
    "def fix_wrong_arquivodata(text):\n",
    "    return text.replace(\"arquivodata=http\", \"arquivourl=http\")"
   ]
  },
  {
   "cell_type": "code",
   "execution_count": 6,
   "metadata": {},
   "outputs": [],
   "source": [
    "translation_text_clean = fix_wrong_arquivodata(translation_text_clean)\n"
   ]
  },
  {
   "cell_type": "code",
   "execution_count": 7,
   "metadata": {},
   "outputs": [],
   "source": [
    "import re\n",
    "def fix_wrong_arquivourl(text):\n",
    "    return re.sub(r'arquivourl=([0-9])', r\"arquivodata=\\1\", text)"
   ]
  },
  {
   "cell_type": "code",
   "execution_count": 8,
   "metadata": {},
   "outputs": [
    {
     "data": {
      "text/plain": [
       "112920"
      ]
     },
     "execution_count": 8,
     "metadata": {},
     "output_type": "execute_result"
    }
   ],
   "source": [
    "\n",
    "\n",
    "translation_text_clean = fix_wrong_arquivourl(translation_text_clean)\n",
    "\n",
    "file = open(\"vac_research_mod.txt\",\"w+\") \n",
    "file.write(translation_text_clean)"
   ]
  },
  {
   "cell_type": "code",
   "execution_count": 10,
   "metadata": {},
   "outputs": [
    {
     "data": {
      "text/plain": [
       "'|arquivodata=1 May bla'"
      ]
     },
     "execution_count": 10,
     "metadata": {},
     "output_type": "execute_result"
    }
   ],
   "source": [
    "fix_wrong_arquivourl('|arquivourl=1 May bla')"
   ]
  },
  {
   "cell_type": "code",
   "execution_count": null,
   "metadata": {},
   "outputs": [],
   "source": []
  }
 ],
 "metadata": {
  "kernelspec": {
   "display_name": "Python 3",
   "language": "python",
   "name": "python3"
  },
  "language_info": {
   "codemirror_mode": {
    "name": "ipython",
    "version": 3
   },
   "file_extension": ".py",
   "mimetype": "text/x-python",
   "name": "python",
   "nbconvert_exporter": "python",
   "pygments_lexer": "ipython3",
   "version": "3.6.9"
  }
 },
 "nbformat": 4,
 "nbformat_minor": 4
}
